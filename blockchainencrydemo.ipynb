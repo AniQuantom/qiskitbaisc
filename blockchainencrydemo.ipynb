{
 "cells": [
  {
   "cell_type": "code",
   "execution_count": 1,
   "metadata": {},
   "outputs": [],
   "source": [
    "from qiskit import QuantumCircuit, QuantumRegister, ClassicalRegister\n",
    "from qiskit_aer import AerSimulator\n",
    "import hashlib\n",
    "import random"
   ]
  },
  {
   "cell_type": "code",
   "execution_count": 2,
   "metadata": {},
   "outputs": [],
   "source": [
    "class QuantumCoin:\n",
    "    def __init__(self):\n",
    "        self.blockchain = []\n",
    "        self.pending_transactions = []\n",
    "\n",
    "    def quantum_hash(self, data):\n",
    "        # Convert data to binary\n",
    "        binary_data = ''.join(format(ord(char), '08b') for char in str(data))\n",
    "        \n",
    "        # Create quantum circuit\n",
    "        qr = QuantumRegister(len(binary_data))\n",
    "        cr = ClassicalRegister(len(binary_data))\n",
    "        qc = QuantumCircuit(qr, cr)\n",
    "        \n",
    "        # Encode data into quantum states\n",
    "        for i, bit in enumerate(binary_data):\n",
    "            if bit == '1':\n",
    "                qc.x(qr[i])\n",
    "        \n",
    "        # Apply quantum operations\n",
    "        for i in range(len(binary_data)):\n",
    "            qc.h(qr[i])\n",
    "        qc.cx(qr[0], qr[1])\n",
    "        \n",
    "        # Measure\n",
    "        qc.measure(qr, cr)\n",
    "        \n",
    "        # Simulate\n",
    "        simulator = AerSimulator()\n",
    "        result = simulator.run(qc, shots=1).result()\n",
    "        counts = result.get_counts(qc)\n",
    "        quantum_hash = list(counts.keys())[0]\n",
    "        \n",
    "        return quantum_hash\n",
    "\n",
    "    def create_transaction(self, sender, recipient, amount):\n",
    "        transaction = {\n",
    "            'sender': sender,\n",
    "            'recipient': recipient,\n",
    "            'amount': amount\n",
    "        }\n",
    "        self.pending_transactions.append(transaction)\n",
    "        return transaction\n",
    "\n",
    "    def mine_block(self, miner):\n",
    "        if not self.pending_transactions:\n",
    "            return None\n",
    "\n",
    "        last_block = self.blockchain[-1] if self.blockchain else {'hash': '0'*64}\n",
    "        new_block = {\n",
    "            'transactions': self.pending_transactions,\n",
    "            'previous_hash': last_block['hash'],\n",
    "            'nonce': 0\n",
    "        }\n",
    "\n",
    "        while True:\n",
    "            new_block['nonce'] += 1\n",
    "            block_hash = self.quantum_hash(str(new_block))\n",
    "            if block_hash.startswith('0000'):  # Simple proof of work\n",
    "                new_block['hash'] = block_hash\n",
    "                break\n",
    "\n",
    "        self.blockchain.append(new_block)\n",
    "        self.pending_transactions = [\n",
    "            self.create_transaction(\"System\", miner, 1)  # Mining reward\n",
    "        ]\n",
    "        return new_block\n",
    "\n",
    "    def get_balance(self, address):\n",
    "        balance = 0\n",
    "        for block in self.blockchain:\n",
    "            for transaction in block['transactions']:\n",
    "                if transaction['recipient'] == address:\n",
    "                    balance += transaction['amount']\n",
    "                if transaction['sender'] == address:\n",
    "                    balance -= transaction['amount']\n",
    "        return balance\n"
   ]
  },
  {
   "cell_type": "code",
   "execution_count": 3,
   "metadata": {},
   "outputs": [
    {
     "name": "stdout",
     "output_type": "stream",
     "text": [
      "Mined block: {'transactions': [{'sender': 'Alice', 'recipient': 'Bob', 'amount': 50}, {'sender': 'Bob', 'recipient': 'Charlie', 'amount': 30}, {'sender': 'System', 'recipient': 'Miner1', 'amount': 1}], 'previous_hash': '0000000000000000000000000000000000000000000000000000000000000000', 'nonce': 10, 'hash': '000001110011101110100101110100001101010000010100001001110010001111011110101011110001001001000101110101111000000000001010001111100100000011100000111010000110001110010011101111000110101111111000100101101000000010000100000000111010011001101100101010111111110111011011000000010101101111101111010110111111011010110001101111001011101101101100011101001000111000110111111111000010010100110010011010000101010101011010111111111111101000001000100011011011101001110101111011000101010111000011100011101100011000001000000000110001000111110100011000011111100111000001101010001010111011100011110101100101000000101000010011100111001110101001000000010111010100000000011011011000110100111010101001100100001001010000111101111101110011001000100101100100110000101111101110001010000101001111110011100100110001101011011011110000000001000101011111101111010111100010010110010011010000101101101001010101101000001010111001001010000011001100110000100111110000011001110100100010100011011101001001011000011000010100111010000110110100010110011001100010111001110010110110111110000101001100101010001100000100011001110101001111110110111011111100111001100101110010110101101000011011100010110000000001010000100011100000011111001000101110100111110111000110010101100010100100111111110000001111010110100011110111100111110111111010100001001000111111000000100001111011011111100111011100011110000011100000111110100000011010111110001101000010111110010110000010001000111000010011001010101101111000011101111010100010011111001000111111100100001100111100001101001100110110101000101000100001101100110010101010001000000111110100011111100000010000000111110001001010000001001001011000110101001111010001101110101011000001011110001101010101011111100000000111111001000100101100010101111110111000000001001110000011101001001000011001100100111111111010000110100110111110011011100000'}\n",
      "Alice's balance: -50\n",
      "Bob's balance: 20\n",
      "Charlie's balance: 30\n",
      "Miner1's balance: 1\n"
     ]
    }
   ],
   "source": [
    "coin = QuantumCoin()\n",
    "\n",
    "# Create some transactions\n",
    "coin.create_transaction(\"Alice\", \"Bob\", 50)\n",
    "coin.create_transaction(\"Bob\", \"Charlie\", 30)\n",
    "\n",
    "# Mine a block\n",
    "mined_block = coin.mine_block(\"Miner1\")\n",
    "print(\"Mined block:\", mined_block)\n",
    "\n",
    "# Check balances\n",
    "print(\"Alice's balance:\", coin.get_balance(\"Alice\"))\n",
    "print(\"Bob's balance:\", coin.get_balance(\"Bob\"))\n",
    "print(\"Charlie's balance:\", coin.get_balance(\"Charlie\"))\n",
    "print(\"Miner1's balance:\", coin.get_balance(\"Miner1\"))"
   ]
  }
 ],
 "metadata": {
  "kernelspec": {
   "display_name": "Python 3",
   "language": "python",
   "name": "python3"
  },
  "language_info": {
   "codemirror_mode": {
    "name": "ipython",
    "version": 3
   },
   "file_extension": ".py",
   "mimetype": "text/x-python",
   "name": "python",
   "nbconvert_exporter": "python",
   "pygments_lexer": "ipython3",
   "version": "3.12.4"
  }
 },
 "nbformat": 4,
 "nbformat_minor": 2
}

{
 "cells": [
  {
   "cell_type": "code",
   "execution_count": 6,
   "metadata": {},
   "outputs": [],
   "source": [
    "from qiskit import QuantumCircuit, QuantumRegister, ClassicalRegister\n",
    "from qiskit_aer import AerSimulator\n",
    "import hashlib\n",
    "\n",
    "def quantum_encrypt(username, key):\n",
    "    # Convert username to binary\n",
    "    binary_username = ''.join(format(ord(char), '08b') for char in username)\n",
    "    \n",
    "    # Ensure the key is at least as long as the binary username\n",
    "    while len(key) < len(binary_username):\n",
    "        key += key\n",
    "    key = key[:len(binary_username)]\n",
    "    \n",
    "    # Create quantum registers\n",
    "    qr = QuantumRegister(len(binary_username))\n",
    "    cr = ClassicalRegister(len(binary_username))\n",
    "    qc = QuantumCircuit(qr, cr)\n",
    "    \n",
    "    # Encode the username into quantum states\n",
    "    for i, bit in enumerate(binary_username):\n",
    "        if bit == '1':\n",
    "            qc.x(qr[i])\n",
    "    \n",
    "    # Apply the key\n",
    "    for i, bit in enumerate(key):\n",
    "        if bit == '1':\n",
    "            qc.h(qr[i])  # Apply Hadamard gate if key bit is 1\n",
    "    \n",
    "    # Measure the qubits\n",
    "    qc.measure(qr, cr)\n",
    "    \n",
    "    # Simulate the circuit\n",
    "    simulator = AerSimulator()\n",
    "    result = simulator.run(qc, shots=1).result()\n",
    "    counts = result.get_counts(qc)\n",
    "    encrypted = list(counts.keys())[0]\n",
    "    \n",
    "    return encrypted\n",
    "\n",
    "def quantum_decrypt(encrypted, key):\n",
    "    # Create quantum registers\n",
    "    qr = QuantumRegister(len(encrypted))\n",
    "    cr = ClassicalRegister(len(encrypted))\n",
    "    qc = QuantumCircuit(qr, cr)\n",
    "    \n",
    "    # Encode the encrypted message into quantum states\n",
    "    for i, bit in enumerate(encrypted):\n",
    "        if bit == '1':\n",
    "            qc.x(qr[i])\n",
    "    \n",
    "    # Apply the key (decryption is the same as encryption for this method)\n",
    "    for i, bit in enumerate(key):\n",
    "        if bit == '1':\n",
    "            qc.h(qr[i])  # Apply Hadamard gate if key bit is 1\n",
    "    \n",
    "    # Measure the qubits\n",
    "    qc.measure(qr, cr)\n",
    "    \n",
    "    # Simulate the circuit\n",
    "    simulator = AerSimulator()\n",
    "    result = simulator.run(qc, shots=1).result()\n",
    "    counts = result.get_counts(qc)\n",
    "    decrypted_binary = list(counts.keys())[0]\n",
    "    \n",
    "    # Convert binary back to text\n",
    "    decrypted = ''.join(chr(int(decrypted_binary[i:i+8], 2)) for i in range(0, len(decrypted_binary), 8))\n",
    "    \n",
    "    return decrypted\n"
   ]
  },
  {
   "cell_type": "code",
   "execution_count": 10,
   "metadata": {},
   "outputs": [
    {
     "name": "stdout",
     "output_type": "stream",
     "text": [
      "Original username: Anish124\n",
      "Encrypted: 0010110001001100100011000001111011001110100101000111011010000010\n",
      "Decrypted: Qn)kx124\n"
     ]
    }
   ],
   "source": [
    "# Example usage\n",
    "username = \"Anish124\"\n",
    "key = hashlib.sha256(b\"secret_key\").hexdigest()\n",
    "\n",
    "print(f\"Original username: {username}\")\n",
    "\n",
    "encrypted = quantum_encrypt(username, key)\n",
    "print(f\"Encrypted: {encrypted}\")\n",
    "\n",
    "decrypted = quantum_decrypt(encrypted, key)\n",
    "print(f\"Decrypted: {decrypted}\")\n"
   ]
  }
 ],
 "metadata": {
  "kernelspec": {
   "display_name": "Python 3",
   "language": "python",
   "name": "python3"
  },
  "language_info": {
   "codemirror_mode": {
    "name": "ipython",
    "version": 3
   },
   "file_extension": ".py",
   "mimetype": "text/x-python",
   "name": "python",
   "nbconvert_exporter": "python",
   "pygments_lexer": "ipython3",
   "version": "3.12.4"
  }
 },
 "nbformat": 4,
 "nbformat_minor": 2
}
